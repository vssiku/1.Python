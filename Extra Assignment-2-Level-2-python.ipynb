{
 "cells": [
  {
   "cell_type": "code",
   "execution_count": 1,
   "id": "d81357a5-639a-40f0-be24-5fb34e6a8797",
   "metadata": {},
   "outputs": [],
   "source": [
    "# print 0 to 20 by using range"
   ]
  },
  {
   "cell_type": "code",
   "execution_count": 2,
   "id": "f1562674-5258-4d4e-9a23-e3173a885178",
   "metadata": {},
   "outputs": [
    {
     "name": "stdout",
     "output_type": "stream",
     "text": [
      "0\n",
      "1\n",
      "2\n",
      "3\n",
      "4\n",
      "5\n",
      "6\n",
      "7\n",
      "8\n",
      "9\n",
      "10\n",
      "11\n",
      "12\n",
      "13\n",
      "14\n",
      "15\n",
      "16\n",
      "17\n",
      "18\n",
      "19\n"
     ]
    }
   ],
   "source": [
    "for num in range(0,20):\n",
    "    print(num)"
   ]
  },
  {
   "cell_type": "code",
   "execution_count": 3,
   "id": "9bc7505a-de72-481e-85fc-9b024bd9dd38",
   "metadata": {},
   "outputs": [],
   "source": [
    "# print range 10 to 20"
   ]
  },
  {
   "cell_type": "code",
   "execution_count": 5,
   "id": "a0a5770d-60b9-4f38-b0f5-e0e3e17bb07d",
   "metadata": {},
   "outputs": [
    {
     "name": "stdout",
     "output_type": "stream",
     "text": [
      "10 11 12 13 14 15 16 17 18 19 "
     ]
    }
   ],
   "source": [
    "for num in range(10,20):\n",
    "    if num < 20:\n",
    "        print(num,end=\" \")\n",
    "    else:\n",
    "        print(num)"
   ]
  },
  {
   "cell_type": "code",
   "execution_count": 6,
   "id": "95793a23-0688-4b70-b6b5-1f53ca36a61a",
   "metadata": {},
   "outputs": [],
   "source": [
    "# Print number of items in the list by using 'len'"
   ]
  },
  {
   "cell_type": "code",
   "execution_count": 8,
   "id": "ca4524cc-bb9a-4fa9-838f-de953d107350",
   "metadata": {},
   "outputs": [
    {
     "name": "stdout",
     "output_type": "stream",
     "text": [
      "[10, 20, 14, 55, 43, 87, 76]\n",
      "Number of item in the List2: \n",
      "7\n"
     ]
    }
   ],
   "source": [
    "my_list = [10, 20, 14, 55, 43, 87, 76]\n",
    "print(my_list)\n",
    "print(\"Number of item in the List2: \\n\"+str(len(my_list)))"
   ]
  },
  {
   "cell_type": "code",
   "execution_count": 17,
   "id": "a8e20339-9a7f-402b-958a-00cbad6110e1",
   "metadata": {},
   "outputs": [
    {
     "name": "stdout",
     "output_type": "stream",
     "text": [
      "A r t i f i c i a l    I n t e l l i g e n c e A\n",
      "r\n",
      "t\n",
      "i\n",
      "f\n",
      "i\n",
      "c\n",
      "i\n",
      "a\n",
      "l\n",
      "  \n",
      "I\n",
      "n\n",
      "t\n",
      "e\n",
      "l\n",
      "l\n",
      "i\n",
      "g\n",
      "e\n",
      "n\n",
      "c\n",
      "e\n"
     ]
    }
   ],
   "source": [
    "my_text=['A','r','t','i','f','i','c','i','a','l','  ' ,'I','n','t','e','l','l','i','g','e','n','c','e']\n",
    "#print(my_text)\n",
    "for text in my_text:\n",
    "    print(text,end=\" \")\n",
    "for text in my_text:    \n",
    "    print(text)"
   ]
  },
  {
   "cell_type": "code",
   "execution_count": 18,
   "id": "c2dde4a1-a2da-4fb2-b698-d0032a9233d3",
   "metadata": {},
   "outputs": [],
   "source": [
    "# Mixed datatype using Tuples"
   ]
  },
  {
   "cell_type": "code",
   "execution_count": 19,
   "id": "461aa94f-c696-464c-a5e8-6afa2a6c3e27",
   "metadata": {},
   "outputs": [
    {
     "name": "stdout",
     "output_type": "stream",
     "text": [
      "(1, 'Welcome', 2, 'Hope')\n"
     ]
    }
   ],
   "source": [
    "Tuple1 = (1,'Welcome', 2, 'Hope')\n",
    "print(Tuple1)"
   ]
  },
  {
   "cell_type": "code",
   "execution_count": 29,
   "id": "8f45e1b5-93a6-4051-849f-4ecdab1bc6c3",
   "metadata": {},
   "outputs": [],
   "source": [
    "#Nested Tuples"
   ]
  },
  {
   "cell_type": "code",
   "execution_count": 22,
   "id": "35a13e1c-6a78-43fe-a8fa-9cca0055c9c4",
   "metadata": {},
   "outputs": [
    {
     "name": "stdout",
     "output_type": "stream",
     "text": [
      "((0, 1, 2, 3), ('python', 'HOPE'))\n"
     ]
    }
   ],
   "source": [
    "Tuple1 = (0,1,2,3)\n",
    "Tuple2 = ('python','HOPE')\n",
    "Tuple3 = (Tuple1 , Tuple2)\n",
    "print(Tuple3)"
   ]
  },
  {
   "cell_type": "code",
   "execution_count": 30,
   "id": "2a9712b4-f4d4-4595-b9b2-d2e400e05e44",
   "metadata": {},
   "outputs": [],
   "source": [
    "# Print odd & Even Numbers in the list"
   ]
  },
  {
   "cell_type": "code",
   "execution_count": 28,
   "id": "b88794f5-9fad-48d8-af2b-dc23f2d46224",
   "metadata": {},
   "outputs": [
    {
     "name": "stdout",
     "output_type": "stream",
     "text": [
      "20  is Even Number\n",
      "10  is Even Number\n",
      "16  is Even Number\n",
      "19  is Odd Number\n",
      "25  is Odd Number\n",
      "1  is Odd Number\n",
      "276  is Even Number\n",
      "188  is Even Number\n"
     ]
    }
   ],
   "source": [
    "my_list=[20,10,16,19,25,1,276,188]\n",
    "for num in my_list:\n",
    "    if num%2==0:\n",
    "        print(str(num) + \"  is Even Number\")\n",
    "    elif num%2 !=0:\n",
    "        print(str(num) + \"  is Odd Number\")\n",
    "        "
   ]
  },
  {
   "cell_type": "code",
   "execution_count": null,
   "id": "2b441db1-820e-49db-b477-b21bae6b10b9",
   "metadata": {},
   "outputs": [],
   "source": []
  }
 ],
 "metadata": {
  "kernelspec": {
   "display_name": "Python [conda env:base] *",
   "language": "python",
   "name": "conda-base-py"
  },
  "language_info": {
   "codemirror_mode": {
    "name": "ipython",
    "version": 3
   },
   "file_extension": ".py",
   "mimetype": "text/x-python",
   "name": "python",
   "nbconvert_exporter": "python",
   "pygments_lexer": "ipython3",
   "version": "3.12.7"
  }
 },
 "nbformat": 4,
 "nbformat_minor": 5
}
