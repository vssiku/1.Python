{
 "cells": [
  {
   "cell_type": "code",
   "execution_count": 20,
   "id": "03e0c680-5d7b-45b0-8ab8-5ba2a0fbf1b9",
   "metadata": {},
   "outputs": [],
   "source": [
    "# print 'CORRECT' if i == 10"
   ]
  },
  {
   "cell_type": "code",
   "execution_count": 6,
   "id": "231f6d5c-aeff-45dd-85f7-9549f4727d9f",
   "metadata": {},
   "outputs": [
    {
     "name": "stdin",
     "output_type": "stream",
     "text": [
      "Enter a Number:  10\n"
     ]
    },
    {
     "name": "stdout",
     "output_type": "stream",
     "text": [
      "CORRECT\n"
     ]
    }
   ],
   "source": [
    "i=int(input(\"Enter a Number: \"))\n",
    "if i==10:\n",
    "    print(\"CORRECT\")\n",
    "else:\n",
    "    print(\"NOT CORRECT\")"
   ]
  },
  {
   "cell_type": "code",
   "execution_count": 19,
   "id": "cfeb4771-a031-4082-96b6-6b378fcc0894",
   "metadata": {},
   "outputs": [],
   "source": [
    "# Check the password, using if and else"
   ]
  },
  {
   "cell_type": "code",
   "execution_count": 9,
   "id": "61115571-574a-440b-8e0f-8fc2680203eb",
   "metadata": {},
   "outputs": [
    {
     "name": "stdin",
     "output_type": "stream",
     "text": [
      "Enter the Password:  HOPE@123\n"
     ]
    },
    {
     "name": "stdout",
     "output_type": "stream",
     "text": [
      "Your password is correct\n"
     ]
    }
   ],
   "source": [
    "pwd=(input(\"Enter the Password: \"))\n",
    "if pwd=='HOPE@123':\n",
    "    print(\"Your password is correct\")\n",
    "else:\n",
    "    print(\"Your password is NOT correct\")"
   ]
  },
  {
   "cell_type": "code",
   "execution_count": 18,
   "id": "860adae0-7cf2-43de-be89-8f018a6a4430",
   "metadata": {},
   "outputs": [],
   "source": [
    "# Catagory the people by their age like children, adult, citizen, senior citizen..."
   ]
  },
  {
   "cell_type": "code",
   "execution_count": 17,
   "id": "4a0d2a50-a3f5-4aee-bc8d-d607d1fdda14",
   "metadata": {},
   "outputs": [
    {
     "name": "stdin",
     "output_type": "stream",
     "text": [
      "age:  20\n"
     ]
    },
    {
     "name": "stdout",
     "output_type": "stream",
     "text": [
      "Adult\n"
     ]
    }
   ],
   "source": [
    "age=int(input(\"age: \"))\n",
    "if age<18:\n",
    "    print(\"Children\")\n",
    "elif age >=18 and age <=35:\n",
    "    print(\"Adult\")\n",
    "elif age<=50:\n",
    "    print(\"Citizen\")\n",
    "else:\n",
    "    print(\"Senior Citizen\")"
   ]
  },
  {
   "cell_type": "code",
   "execution_count": 21,
   "id": "56d69187-4792-4fb1-a8a3-62611d39d568",
   "metadata": {},
   "outputs": [],
   "source": [
    "# Find whether given number is positive or negative"
   ]
  },
  {
   "cell_type": "code",
   "execution_count": 32,
   "id": "c2120c59-f703-4bbd-9024-2db7990127ab",
   "metadata": {},
   "outputs": [
    {
     "name": "stdin",
     "output_type": "stream",
     "text": [
      "Enter any Number:  1\n"
     ]
    },
    {
     "name": "stdout",
     "output_type": "stream",
     "text": [
      "Number 1 is Positive\n"
     ]
    }
   ],
   "source": [
    "number=int(input(\"Enter any Number: \"))\n",
    "if number>0:\n",
    "    print(\"Number \" + str(number)+ \" is Positive\")\n",
    "elif number<0:\n",
    "    print( \"Number \" + str(number)+ \" is Negative\")\n",
    "elif number==0:\n",
    "    print( \"Number \" + str(number)+ \" is neither Negative nor Positive\")"
   ]
  },
  {
   "cell_type": "code",
   "execution_count": 33,
   "id": "99d6b378-4b4a-4f3c-b6de-1fb72ea4cc6e",
   "metadata": {},
   "outputs": [],
   "source": [
    "# Check whether the given number is divisible by 5"
   ]
  },
  {
   "cell_type": "code",
   "execution_count": 40,
   "id": "10c3251b-5a24-4cf9-a1f8-e0457eba2822",
   "metadata": {},
   "outputs": [
    {
     "name": "stdin",
     "output_type": "stream",
     "text": [
      "Enter a Number to check:  22\n"
     ]
    },
    {
     "name": "stdout",
     "output_type": "stream",
     "text": [
      "Number 22 is not divisible by 5\n"
     ]
    }
   ],
   "source": [
    "number=int(input(\"Enter a Number to check: \"))\n",
    "if number%5 ==0:\n",
    "    print(\"Number \" + str(number)+ \" is divisible by 5\")\n",
    "else:\n",
    "    print(\"Number \" + str(number)+ \" is not divisible by 5\")"
   ]
  },
  {
   "cell_type": "code",
   "execution_count": null,
   "id": "86d25901-8f75-4ae8-a4fd-e5269909d127",
   "metadata": {},
   "outputs": [],
   "source": []
  },
  {
   "cell_type": "code",
   "execution_count": null,
   "id": "1df2c328-c48a-4ce1-809f-4d126acb5a1e",
   "metadata": {},
   "outputs": [],
   "source": []
  }
 ],
 "metadata": {
  "kernelspec": {
   "display_name": "Python [conda env:base] *",
   "language": "python",
   "name": "conda-base-py"
  },
  "language_info": {
   "codemirror_mode": {
    "name": "ipython",
    "version": 3
   },
   "file_extension": ".py",
   "mimetype": "text/x-python",
   "name": "python",
   "nbconvert_exporter": "python",
   "pygments_lexer": "ipython3",
   "version": "3.12.7"
  }
 },
 "nbformat": 4,
 "nbformat_minor": 5
}
