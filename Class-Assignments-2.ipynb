{
 "cells": [
  {
   "cell_type": "code",
   "execution_count": 1,
   "id": "ddbaa4c0-168d-4183-839a-9641ccbcad3e",
   "metadata": {},
   "outputs": [],
   "source": [
    "#Multiple Functions in a single class"
   ]
  },
  {
   "cell_type": "code",
   "execution_count": 4,
   "id": "f543cbe5-6855-47c0-a8fd-2da5a5b1efc4",
   "metadata": {},
   "outputs": [],
   "source": [
    "class multipleFunctions():\n",
    "    def Subfields():\n",
    "        my_list = ['Machine Learning','Neural Networks','Vision','Robotics','Speech Processing','Natural Language Processing']\n",
    "        return(my_list)\n",
    "    def oddEven(n):\n",
    "        if n%2==1:\n",
    "            result='Odd Number'\n",
    "        else:\n",
    "            result='Even Number'\n",
    "        return result      \n",
    "    def check_eligibility(gender_a1,age_a2):\n",
    "        if gender_a1.lower()=='male' and age_a2 >=21:\n",
    "            res='ELIGIBLE'\n",
    "        elif gender_a1.lower()=='male' and age_a2 <21:\n",
    "            res='NOT ELIGIBLE'\n",
    "        elif gender_a1.lower()=='female' and age_a2 >=18:\n",
    "            res='ELIGIBLE'\n",
    "        elif gender_a1.lower()=='female' and age_a2 <18:\n",
    "            res='NOT ELIGIBLE'\n",
    "        else: res='WRONG INPUT'\n",
    "        return res\n",
    "    def func_percentage(s1,s2,s3,s4,s5):\n",
    "        sum=s1+s2+s3+s4+s5\n",
    "        per=float(sum/5)\n",
    "        return per\n",
    "    def area_tri(h,b):\n",
    "        return((h*b)/2)\n",
    "    def peri_tri(h1,h2,b):\n",
    "        return(h1+h2+b)   \n",
    "    def bmi():\n",
    "        bmi=int(input(\"Enter the BMI Index:\"))\n",
    "        if bmi < 18.5:\n",
    "            print(\"UnderWeight\")\n",
    "        elif bmi <=24.9:\n",
    "            print(\"Healthy Weight\")\n",
    "        elif bmi <=29.9:\n",
    "            print(\"Overweight\")\n",
    "        elif bmi <=34.9:\n",
    "            print(\"Class 1 obesity\")\n",
    "        elif bmi <=39.9:\n",
    "            print(\"Class 2 obesity\")\n",
    "        else:\n",
    "            print(\"Class 3 obesity\")"
   ]
  },
  {
   "cell_type": "code",
   "execution_count": null,
   "id": "b48b5e12-92fc-45aa-b624-ce79cb12f39b",
   "metadata": {},
   "outputs": [],
   "source": []
  }
 ],
 "metadata": {
  "kernelspec": {
   "display_name": "Python [conda env:base] *",
   "language": "python",
   "name": "conda-base-py"
  },
  "language_info": {
   "codemirror_mode": {
    "name": "ipython",
    "version": 3
   },
   "file_extension": ".py",
   "mimetype": "text/x-python",
   "name": "python",
   "nbconvert_exporter": "python",
   "pygments_lexer": "ipython3",
   "version": "3.12.7"
  }
 },
 "nbformat": 4,
 "nbformat_minor": 5
}
