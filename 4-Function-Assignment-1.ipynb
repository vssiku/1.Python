{
 "cells": [
  {
   "cell_type": "code",
   "execution_count": 1,
   "id": "f36cf864-6b88-4170-b70b-406dfe0b2745",
   "metadata": {},
   "outputs": [],
   "source": [
    "# Create a class and function, and list out the items in the list"
   ]
  },
  {
   "cell_type": "code",
   "execution_count": 53,
   "id": "9ec33d5f-b970-4a84-8231-5d62c666b78f",
   "metadata": {},
   "outputs": [],
   "source": [
    "def Subfields():\n",
    "    my_list = ['Machine Learning','Neural Networks','Vision','Robotics','Speech Processing','Natural Language Processing']\n",
    "    return(my_list)"
   ]
  },
  {
   "cell_type": "code",
   "execution_count": 54,
   "id": "3389bfd2-e01a-4f42-b554-7722fdc858a5",
   "metadata": {},
   "outputs": [
    {
     "name": "stdout",
     "output_type": "stream",
     "text": [
      "Sub-fields in AI are:\n",
      "Machine Learning\n",
      "Neural Networks\n",
      "Vision\n",
      "Robotics\n",
      "Speech Processing\n",
      "Natural Language Processing\n"
     ]
    }
   ],
   "source": [
    "print('Sub-fields in AI are:' )\n",
    "my_list=Subfields()\n",
    "for ai_terms in my_list:\n",
    "        print(ai_terms)"
   ]
  },
  {
   "cell_type": "code",
   "execution_count": 21,
   "id": "9f53f0d7-19a4-43b0-8a8b-d6856dc64c47",
   "metadata": {},
   "outputs": [],
   "source": [
    "# Create a function that checks whether the given number is Odd or Even"
   ]
  },
  {
   "cell_type": "code",
   "execution_count": 23,
   "id": "9efe6897-188e-461f-923f-5cfd6380c40b",
   "metadata": {},
   "outputs": [],
   "source": [
    "def oddEven(n):\n",
    "    if n%2==1:\n",
    "        result='Odd Number'\n",
    "    else:\n",
    "        result='Even Number'\n",
    "    return result"
   ]
  },
  {
   "cell_type": "code",
   "execution_count": 28,
   "id": "cca4b10f-b26b-4d8c-b141-0e13b5c97347",
   "metadata": {},
   "outputs": [
    {
     "name": "stdin",
     "output_type": "stream",
     "text": [
      "Enter a number:  52452\n"
     ]
    },
    {
     "name": "stdout",
     "output_type": "stream",
     "text": [
      "52452 is Even Number\n"
     ]
    }
   ],
   "source": [
    "num=int(input('Enter a number: ')) \n",
    "res= oddEven(num) \n",
    "print(str(num)+ ' is ' + res)"
   ]
  },
  {
   "cell_type": "code",
   "execution_count": 30,
   "id": "a4b8a02d-6fc3-4c30-bb48-5092ba89ce61",
   "metadata": {},
   "outputs": [],
   "source": [
    "# Create a function that tells eligibility of marriage for male and female according to their age limit like 21 for male and 18 for female"
   ]
  },
  {
   "cell_type": "code",
   "execution_count": 39,
   "id": "cf0b9b84-842f-4af9-97ff-944efeb211d3",
   "metadata": {},
   "outputs": [
    {
     "name": "stdin",
     "output_type": "stream",
     "text": [
      "Your Gender: Male\n",
      "Your Age: 20\n"
     ]
    },
    {
     "name": "stdout",
     "output_type": "stream",
     "text": [
      "NOT ELIGIBLE\n"
     ]
    }
   ],
   "source": [
    "gender=input('Your Gender:')\n",
    "age=int(input('Your Age:'))\n",
    "result=check_eligibility(gender,age)\n",
    "print(result)"
   ]
  },
  {
   "cell_type": "code",
   "execution_count": 34,
   "id": "645b2b21-70cf-4afd-abf2-0de8244d3dd8",
   "metadata": {},
   "outputs": [],
   "source": [
    "def check_eligibility(gender_a1,age_a2):\n",
    "    if gender_a1.lower()=='male' and age_a2 >=21:\n",
    "        res='ELIGIBLE'\n",
    "    elif gender_a1.lower()=='male' and age_a2 <21:\n",
    "        res='NOT ELIGIBLE'\n",
    "    elif gender_a1.lower()=='female' and age_a2 >=18:\n",
    "        res='ELIGIBLE'\n",
    "    elif gender_a1.lower()=='female' and age_a2 <18:\n",
    "        res='NOT ELIGIBLE'\n",
    "    else: res='WRONG INPUT'\n",
    "    return res\n",
    "\n",
    "    "
   ]
  },
  {
   "cell_type": "code",
   "execution_count": 40,
   "id": "b14231e2-dd77-4341-b955-12b492e157f1",
   "metadata": {},
   "outputs": [],
   "source": [
    "# calculate the percentage of your 10th mark"
   ]
  },
  {
   "cell_type": "code",
   "execution_count": 44,
   "id": "0bc83e78-73b3-4fc7-8a9d-b782e7b9877d",
   "metadata": {},
   "outputs": [],
   "source": [
    "def func_percentage(s1,s2,s3,s4,s5):\n",
    "    sum=s1+s2+s3+s4+s5\n",
    "    per=float(sum/5)\n",
    "    return per\n",
    "    "
   ]
  },
  {
   "cell_type": "code",
   "execution_count": 45,
   "id": "d69481e3-b589-4806-b6e8-8e0175c28234",
   "metadata": {},
   "outputs": [
    {
     "name": "stdin",
     "output_type": "stream",
     "text": [
      "Subject1=  98\n",
      "Subject2=  87\n",
      "Subject3=  95\n",
      "Subject4=  95\n",
      "Subject5=  93\n"
     ]
    },
    {
     "name": "stdout",
     "output_type": "stream",
     "text": [
      "Total : 468\n",
      "Percentage : 93.6\n"
     ]
    }
   ],
   "source": [
    "m1=int(input('Subject1= '))\n",
    "m2=int(input('Subject2= '))\n",
    "m3=int(input('Subject3= '))\n",
    "m4=int(input('Subject4= '))\n",
    "m5=int(input('Subject5= '))\n",
    "total=m1+m2+m3+m4+m5\n",
    "percentage=func_percentage(m1,m2,m3,m4,m5)\n",
    "print('Total : ' +str(total))\n",
    "print('Percentage : '+str(percentage))"
   ]
  },
  {
   "cell_type": "code",
   "execution_count": null,
   "id": "cf468b55-05aa-41bc-b532-f14e1c2245a6",
   "metadata": {},
   "outputs": [],
   "source": [
    "Height:32\n",
    "Breadth:34\n",
    "Area formula: (Height*Breadth)/2\n",
    "Area of Triangle: 544.0\n",
    "Height1:2\n",
    "Height2:4\n",
    "Breadth:4\n",
    "Perimeter formula: Height1+Height2+Breadth\n",
    "Perimeter of Triangle: 10"
   ]
  },
  {
   "cell_type": "code",
   "execution_count": 46,
   "id": "094cac26-f338-4f21-83bc-b8a6d98f54c3",
   "metadata": {},
   "outputs": [],
   "source": [
    "#print area and perimeter of triangle usingfunctions"
   ]
  },
  {
   "cell_type": "code",
   "execution_count": 47,
   "id": "4a7d5fb6-6284-4c74-ab3b-2b1265a111cf",
   "metadata": {},
   "outputs": [],
   "source": [
    "def area_tri(h,b):\n",
    "    return((h*b)/2)\n",
    "    "
   ]
  },
  {
   "cell_type": "code",
   "execution_count": 50,
   "id": "f3149844-9ac1-4f41-98c3-6f4c05f2f76f",
   "metadata": {},
   "outputs": [],
   "source": [
    "def peri_tri(h1,h2,b):\n",
    "    return(h1+h2+b)"
   ]
  },
  {
   "cell_type": "code",
   "execution_count": 52,
   "id": "51647ac2-02ee-43e2-9a30-9d861d15e726",
   "metadata": {},
   "outputs": [
    {
     "name": "stdin",
     "output_type": "stream",
     "text": [
      "Height:  32\n",
      "Breadth:  34\n"
     ]
    },
    {
     "name": "stdout",
     "output_type": "stream",
     "text": [
      "Area formula: (Height*Breadth)/2\n",
      "Area of Triangle: 544.0\n"
     ]
    },
    {
     "name": "stdin",
     "output_type": "stream",
     "text": [
      "Height1: 2\n",
      "Height2: 4\n",
      "Breadth: 4\n"
     ]
    },
    {
     "name": "stdout",
     "output_type": "stream",
     "text": [
      "Perimeter formula: Height1+Height2+Breadth\n",
      "Perimeter of Triangle: 10\n"
     ]
    }
   ],
   "source": [
    "height=int(input('Height: '))\n",
    "breadth=int(input('Breadth: '))\n",
    "print('Area formula: (Height*Breadth)/2')\n",
    "area=area_tri(height,breadth)\n",
    "print('Area of Triangle: '+str(area)) \n",
    "h1=int(input('Height1:'))\n",
    "h2=int(input('Height2:'))\n",
    "b1=int(input('Breadth:'))\n",
    "print('Perimeter formula: Height1+Height2+Breadth')\n",
    "print('Perimeter of Triangle: '+str(peri_tri(h1,h2,b1)))"
   ]
  }
 ],
 "metadata": {
  "kernelspec": {
   "display_name": "Python [conda env:base] *",
   "language": "python",
   "name": "conda-base-py"
  },
  "language_info": {
   "codemirror_mode": {
    "name": "ipython",
    "version": 3
   },
   "file_extension": ".py",
   "mimetype": "text/x-python",
   "name": "python",
   "nbconvert_exporter": "python",
   "pygments_lexer": "ipython3",
   "version": "3.12.7"
  }
 },
 "nbformat": 4,
 "nbformat_minor": 5
}
