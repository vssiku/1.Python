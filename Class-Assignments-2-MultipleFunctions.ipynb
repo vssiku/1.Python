{
 "cells": [
  {
   "cell_type": "code",
   "execution_count": 2,
   "id": "ddbaa4c0-168d-4183-839a-9641ccbcad3e",
   "metadata": {},
   "outputs": [],
   "source": [
    "from multipleFunctions import multipleFunctions\n"
   ]
  },
  {
   "cell_type": "code",
   "execution_count": 3,
   "id": "8e545c3f-c1d7-4fdf-98f4-0a549978e215",
   "metadata": {},
   "outputs": [
    {
     "name": "stdin",
     "output_type": "stream",
     "text": [
      "Enter the BMI Index: 34\n"
     ]
    },
    {
     "name": "stdout",
     "output_type": "stream",
     "text": [
      "Class 1 obesity\n"
     ]
    }
   ],
   "source": [
    "multipleFunctions.bmi()"
   ]
  },
  {
   "cell_type": "code",
   "execution_count": 5,
   "id": "a8913442-7f68-40a2-a6a0-f19585db8746",
   "metadata": {},
   "outputs": [
    {
     "name": "stdin",
     "output_type": "stream",
     "text": [
      "Enter a number:  23\n"
     ]
    },
    {
     "name": "stdout",
     "output_type": "stream",
     "text": [
      "23 is Odd Number\n"
     ]
    }
   ],
   "source": [
    "num=int(input('Enter a number: ')) \n",
    "res= multipleFunctions.oddEven(num) \n",
    "print(str(num)+ ' is ' + res)"
   ]
  },
  {
   "cell_type": "code",
   "execution_count": 8,
   "id": "898404cb-4a92-43ae-bb8b-5914e851ae6f",
   "metadata": {},
   "outputs": [
    {
     "data": {
      "text/plain": [
       "['Machine Learning',\n",
       " 'Neural Networks',\n",
       " 'Vision',\n",
       " 'Robotics',\n",
       " 'Speech Processing',\n",
       " 'Natural Language Processing']"
      ]
     },
     "execution_count": 8,
     "metadata": {},
     "output_type": "execute_result"
    }
   ],
   "source": [
    "multipleFunctions.Subfields()"
   ]
  },
  {
   "cell_type": "code",
   "execution_count": null,
   "id": "9fd19094-b77c-4086-8ae7-dea5afa8dec3",
   "metadata": {},
   "outputs": [],
   "source": []
  }
 ],
 "metadata": {
  "kernelspec": {
   "display_name": "Python [conda env:base] *",
   "language": "python",
   "name": "conda-base-py"
  },
  "language_info": {
   "codemirror_mode": {
    "name": "ipython",
    "version": 3
   },
   "file_extension": ".py",
   "mimetype": "text/x-python",
   "name": "python",
   "nbconvert_exporter": "python",
   "pygments_lexer": "ipython3",
   "version": "3.12.7"
  }
 },
 "nbformat": 4,
 "nbformat_minor": 5
}
