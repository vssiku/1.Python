{
 "cells": [
  {
   "cell_type": "code",
   "execution_count": 1,
   "id": "589ef772-ce4b-4a2b-a9c1-78851a0a371a",
   "metadata": {},
   "outputs": [],
   "source": [
    "# Create a class and function, and list out the items in the list"
   ]
  },
  {
   "cell_type": "code",
   "execution_count": 5,
   "id": "c52860ce-50fa-459a-91db-a654597a92d0",
   "metadata": {},
   "outputs": [],
   "source": [
    "class SubfieldsInAI():\n",
    "    def Subfields():\n",
    "        my_list = ['Machine Learning','Neural Networks','Vision','Robotics','Speech Processing','Natural Language Processing']\n",
    "        return(my_list)\n",
    "        "
   ]
  },
  {
   "cell_type": "code",
   "execution_count": 7,
   "id": "0d3f71e3-b7b8-4898-84e7-0de42369593b",
   "metadata": {},
   "outputs": [
    {
     "name": "stdout",
     "output_type": "stream",
     "text": [
      "Sub-fields in AI are:\n",
      "Machine Learning\n",
      "Neural Networks\n",
      "Vision\n",
      "Robotics\n",
      "Speech Processing\n",
      "Natural Language Processing\n"
     ]
    }
   ],
   "source": [
    "print('Sub-fields in AI are:' )\n",
    "my_list=SubfieldsInAI.Subfields()\n",
    "for ai_terms in my_list:\n",
    "        print(ai_terms)"
   ]
  },
  {
   "cell_type": "code",
   "execution_count": 8,
   "id": "9ae4bcee-e18e-474b-b910-d96bd998a687",
   "metadata": {},
   "outputs": [],
   "source": [
    "# Create a class that checks whether the given number is Odd or Even"
   ]
  },
  {
   "cell_type": "code",
   "execution_count": 10,
   "id": "0f514a3a-601f-4ce1-98db-30e8459d9b03",
   "metadata": {},
   "outputs": [],
   "source": [
    "class OddEven():\n",
    "    def oddEven(n):\n",
    "        if n%2==1:\n",
    "            result='Odd Number'\n",
    "        else:\n",
    "            result='Even Number'\n",
    "        return result"
   ]
  },
  {
   "cell_type": "code",
   "execution_count": 11,
   "id": "5855377f-7008-4ef3-a9a8-f7ba0df20dcb",
   "metadata": {},
   "outputs": [
    {
     "name": "stdin",
     "output_type": "stream",
     "text": [
      "Enter a number:  2341\n"
     ]
    },
    {
     "name": "stdout",
     "output_type": "stream",
     "text": [
      "2341 is Odd Number\n"
     ]
    }
   ],
   "source": [
    "num=int(input('Enter a number: ')) \n",
    "res= OddEven.oddEven(num) \n",
    "print(str(num)+ ' is ' + res)"
   ]
  },
  {
   "cell_type": "code",
   "execution_count": 12,
   "id": "f6b694cd-889f-4395-aa24-a76bbf42d4f6",
   "metadata": {},
   "outputs": [],
   "source": [
    "# Create a class that tells elegibility of marriage for male and female according to their age limit like 21 for male and 18 for female"
   ]
  },
  {
   "cell_type": "code",
   "execution_count": 13,
   "id": "2623f08f-0678-47c9-9b94-727bcf23972e",
   "metadata": {},
   "outputs": [],
   "source": [
    "class ElegiblityForMarriage():\n",
    "        def check_eligibility(gender_a1,age_a2):\n",
    "            if gender_a1.lower()=='male' and age_a2 >=21:\n",
    "                res='ELIGIBLE'\n",
    "            elif gender_a1.lower()=='male' and age_a2 <21:\n",
    "                res='NOT ELIGIBLE'\n",
    "            elif gender_a1.lower()=='female' and age_a2 >=18:\n",
    "                res='ELIGIBLE'\n",
    "            elif gender_a1.lower()=='female' and age_a2 <18:\n",
    "                res='NOT ELIGIBLE'\n",
    "            else: res='WRONG INPUT'\n",
    "            return res\n",
    "            "
   ]
  },
  {
   "cell_type": "code",
   "execution_count": 14,
   "id": "f76b035b-f695-40c7-90e8-0f470f562a28",
   "metadata": {},
   "outputs": [
    {
     "name": "stdin",
     "output_type": "stream",
     "text": [
      "Your Gender: Male\n",
      "Your Age: 20\n"
     ]
    },
    {
     "name": "stdout",
     "output_type": "stream",
     "text": [
      "NOT ELIGIBLE\n"
     ]
    }
   ],
   "source": [
    "gender=input('Your Gender:')\n",
    "age=int(input('Your Age:'))\n",
    "result=ElegiblityForMarriage.check_eligibility(gender,age)\n",
    "print(result)"
   ]
  },
  {
   "cell_type": "code",
   "execution_count": 15,
   "id": "3b207f18-c008-483f-8c30-449a941eb4e3",
   "metadata": {},
   "outputs": [],
   "source": [
    "# calculate the percentage of your 10th mark"
   ]
  },
  {
   "cell_type": "code",
   "execution_count": 16,
   "id": "5349b3a0-800a-423b-a952-2bb33d892b99",
   "metadata": {},
   "outputs": [],
   "source": [
    "class FindPercent():\n",
    "        def func_percentage(s1,s2,s3,s4,s5):\n",
    "            sum=s1+s2+s3+s4+s5\n",
    "            per=float(sum/5)\n",
    "            return per"
   ]
  },
  {
   "cell_type": "code",
   "execution_count": 17,
   "id": "ecc467d6-5d2a-43c1-8744-4947d59d97ff",
   "metadata": {},
   "outputs": [
    {
     "name": "stdin",
     "output_type": "stream",
     "text": [
      "Subject1=  98\n",
      "Subject2=  87\n",
      "Subject3=  95\n",
      "Subject4=  95\n",
      "Subject5=  93\n"
     ]
    },
    {
     "name": "stdout",
     "output_type": "stream",
     "text": [
      "Total : 468\n",
      "Percentage : 93.6\n"
     ]
    }
   ],
   "source": [
    "m1=int(input('Subject1= '))\n",
    "m2=int(input('Subject2= '))\n",
    "m3=int(input('Subject3= '))\n",
    "m4=int(input('Subject4= '))\n",
    "m5=int(input('Subject5= '))\n",
    "total=m1+m2+m3+m4+m5\n",
    "percentage=FindPercent.func_percentage(m1,m2,m3,m4,m5)\n",
    "print('Total : ' +str(total))\n",
    "print('Percentage : '+str(percentage))"
   ]
  },
  {
   "cell_type": "code",
   "execution_count": 18,
   "id": "1763d606-4a88-443b-af56-3f7c1d1b8e58",
   "metadata": {},
   "outputs": [],
   "source": [
    "#print area and perimeter of triangle using class and functions"
   ]
  },
  {
   "cell_type": "code",
   "execution_count": 19,
   "id": "6e6c18c9-cee0-4d13-a02f-d23c29fc72ba",
   "metadata": {},
   "outputs": [],
   "source": [
    "class triangle():\n",
    "    def area_tri(h,b):\n",
    "        return((h*b)/2)\n",
    "    def peri_tri(h1,h2,b):\n",
    "        return(h1+h2+b)"
   ]
  },
  {
   "cell_type": "code",
   "execution_count": 20,
   "id": "fae5c8e5-9336-47a6-84a4-4be17611e1c8",
   "metadata": {},
   "outputs": [
    {
     "name": "stdin",
     "output_type": "stream",
     "text": [
      "Height:  32\n",
      "Breadth:  34\n"
     ]
    },
    {
     "name": "stdout",
     "output_type": "stream",
     "text": [
      "Area formula: (Height*Breadth)/2\n",
      "Area of Triangle: 544.0\n"
     ]
    },
    {
     "name": "stdin",
     "output_type": "stream",
     "text": [
      "Height1: 2\n",
      "Height2: 4\n",
      "Breadth: 4\n"
     ]
    },
    {
     "name": "stdout",
     "output_type": "stream",
     "text": [
      "Perimeter formula: Height1+Height2+Breadth\n",
      "Perimeter of Triangle: 10\n"
     ]
    }
   ],
   "source": [
    "height=int(input('Height: '))\n",
    "breadth=int(input('Breadth: '))\n",
    "print('Area formula: (Height*Breadth)/2')\n",
    "area=triangle.area_tri(height,breadth)\n",
    "print('Area of Triangle: '+str(area)) \n",
    "h1=int(input('Height1:'))\n",
    "h2=int(input('Height2:'))\n",
    "b1=int(input('Breadth:'))\n",
    "print('Perimeter formula: Height1+Height2+Breadth')\n",
    "print('Perimeter of Triangle: '+str(triangle.peri_tri(h1,h2,b1)))"
   ]
  }
 ],
 "metadata": {
  "kernelspec": {
   "display_name": "Python [conda env:base] *",
   "language": "python",
   "name": "conda-base-py"
  },
  "language_info": {
   "codemirror_mode": {
    "name": "ipython",
    "version": 3
   },
   "file_extension": ".py",
   "mimetype": "text/x-python",
   "name": "python",
   "nbconvert_exporter": "python",
   "pygments_lexer": "ipython3",
   "version": "3.12.7"
  }
 },
 "nbformat": 4,
 "nbformat_minor": 5
}
