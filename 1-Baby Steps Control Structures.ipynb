{
 "cells": [
  {
   "cell_type": "code",
   "execution_count": 1,
   "id": "49c95d30-3f34-4dcc-9236-2614e7aac838",
   "metadata": {},
   "outputs": [
    {
     "name": "stdout",
     "output_type": "stream",
     "text": [
      "Welcome to Assignment-1\n"
     ]
    }
   ],
   "source": [
    "print (\"Welcome to Assignment-1\")"
   ]
  },
  {
   "cell_type": "code",
   "execution_count": 2,
   "id": "5aee64a2-ccd1-48f9-886b-2048ed160177",
   "metadata": {},
   "outputs": [
    {
     "name": "stdout",
     "output_type": "stream",
     "text": [
      "Num1= 10\n",
      "Num2= 30\n",
      "Add= 40\n"
     ]
    }
   ],
   "source": [
    "Num1 =10;Num2 =30;Add=Num1 + Num2\n",
    "print(\"Num1= \" +str(Num1));print(\"Num2= \" +str(Num2));print(\"Add= \"+str((Add)))"
   ]
  },
  {
   "cell_type": "code",
   "execution_count": 3,
   "id": "e3afbe8d-1111-436c-bb24-e4aa8c9542c7",
   "metadata": {},
   "outputs": [
    {
     "name": "stdin",
     "output_type": "stream",
     "text": [
      "Enter the BMI Index: 30\n"
     ]
    },
    {
     "name": "stdout",
     "output_type": "stream",
     "text": [
      "Class 1 obesity\n"
     ]
    }
   ],
   "source": [
    "bmi=int(input(\"Enter the BMI Index:\"))\n",
    "if bmi < 18.5:\n",
    "    print(\"UnderWeight\")\n",
    "elif bmi <=24.9:\n",
    "    print(\"Healthy Weight\")\n",
    "elif bmi <=29.9:\n",
    "    print(\"Overweight\")\n",
    "elif bmi <=34.9:\n",
    "    print(\"Class 1 obesity\")\n",
    "elif bmi <=39.9:\n",
    "    print(\"Class 2 obesity\")\n",
    "else:\n",
    "    print(\"Class 3 obesity\")"
   ]
  }
 ],
 "metadata": {
  "kernelspec": {
   "display_name": "Python [conda env:base] *",
   "language": "python",
   "name": "conda-base-py"
  },
  "language_info": {
   "codemirror_mode": {
    "name": "ipython",
    "version": 3
   },
   "file_extension": ".py",
   "mimetype": "text/x-python",
   "name": "python",
   "nbconvert_exporter": "python",
   "pygments_lexer": "ipython3",
   "version": "3.12.7"
  }
 },
 "nbformat": 4,
 "nbformat_minor": 5
}
