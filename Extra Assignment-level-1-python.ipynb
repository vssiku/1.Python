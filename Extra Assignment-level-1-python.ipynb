{
 "cells": [
  {
   "cell_type": "code",
   "execution_count": 20,
   "id": "0623e8ee-36d4-46e3-a8b0-a29b564c2436",
   "metadata": {},
   "outputs": [],
   "source": [
    "#print Statement"
   ]
  },
  {
   "cell_type": "code",
   "execution_count": 2,
   "id": "3e0f0832-ec7d-4fda-9228-4be2acac79eb",
   "metadata": {},
   "outputs": [
    {
     "name": "stdout",
     "output_type": "stream",
     "text": [
      "HOPE AI\n"
     ]
    }
   ],
   "source": [
    "print(\"HOPE AI\")"
   ]
  },
  {
   "cell_type": "code",
   "execution_count": 21,
   "id": "4a112475-69bf-4ea2-96bb-b9035f0c6d40",
   "metadata": {},
   "outputs": [],
   "source": [
    "# Buy input"
   ]
  },
  {
   "cell_type": "code",
   "execution_count": 3,
   "id": "3106324f-5bf0-44b8-ad29-fb024a3ebbc9",
   "metadata": {},
   "outputs": [
    {
     "name": "stdin",
     "output_type": "stream",
     "text": [
      "Enter your institute name? :  HOPE AI\n"
     ]
    },
    {
     "name": "stdout",
     "output_type": "stream",
     "text": [
      "HOPE AI\n"
     ]
    }
   ],
   "source": [
    "inst_name=input(\"Enter your institute name? : \")\n",
    "print(inst_name)"
   ]
  },
  {
   "cell_type": "code",
   "execution_count": 22,
   "id": "2989ab49-38a0-4151-9a1d-d3f27dfd32ae",
   "metadata": {},
   "outputs": [],
   "source": [
    "#Buy inputs"
   ]
  },
  {
   "cell_type": "code",
   "execution_count": 8,
   "id": "5818eafe-9940-49c7-800d-8f6993f96e1b",
   "metadata": {},
   "outputs": [
    {
     "name": "stdin",
     "output_type": "stream",
     "text": [
      "Enter your Name:  Sivakumar\n",
      "Enter your Age:  20\n",
      "Enter your School Name:  Findlay Hr Sec School\n",
      "Enter your Degree:  B.Sc Computer Science\n"
     ]
    },
    {
     "name": "stdout",
     "output_type": "stream",
     "text": [
      "Your Name is: Sivakumar\n",
      "Your Age is: 20\n",
      "Your School Name is: Findlay Hr Sec School\n",
      "Your Degree is: B.Sc Computer Science\n"
     ]
    }
   ],
   "source": [
    "name=input(\"Enter your Name: \")\n",
    "age=int(input(\"Enter your Age: \"))\n",
    "school_name=input(\"Enter your School Name: \")\n",
    "degree=input(\"Enter your Degree: \")\n",
    "print(\"Your Name is: \"  + name)\n",
    "print(\"Your Age is: \" + str(age))\n",
    "print(\"Your School Name is: \" +school_name)\n",
    "print(\"Your Degree is: \" + degree)"
   ]
  },
  {
   "cell_type": "code",
   "execution_count": 23,
   "id": "3d804805-c8dc-4fe1-8082-2452930a7371",
   "metadata": {},
   "outputs": [],
   "source": [
    "#Addition"
   ]
  },
  {
   "cell_type": "code",
   "execution_count": 9,
   "id": "bea25aaf-783f-4b06-aa8e-89a28d694982",
   "metadata": {},
   "outputs": [
    {
     "name": "stdout",
     "output_type": "stream",
     "text": [
      "a= 43\n",
      "b= 34\n",
      "add = 77\n"
     ]
    }
   ],
   "source": [
    "a=43\n",
    "b=34\n",
    "add=a+b\n",
    "print(\"a= \"+str(a))\n",
    "print(\"b= \"+str(b))\n",
    "print(\"add = \"+str(add))"
   ]
  },
  {
   "cell_type": "code",
   "execution_count": 24,
   "id": "c9271a9a-ebd6-429f-b926-a72608f2d637",
   "metadata": {},
   "outputs": [],
   "source": [
    "#Subtraction"
   ]
  },
  {
   "cell_type": "code",
   "execution_count": 10,
   "id": "4141518b-eddf-4ba9-981a-3d9765624e5a",
   "metadata": {},
   "outputs": [
    {
     "name": "stdout",
     "output_type": "stream",
     "text": [
      "a= 43\n",
      "b= 34\n",
      "Sub = 9\n"
     ]
    }
   ],
   "source": [
    "a=43\n",
    "b=34\n",
    "sub=a-b\n",
    "print(\"a= \"+str(a))\n",
    "print(\"b= \"+str(b))\n",
    "print(\"Sub = \"+str(sub))"
   ]
  },
  {
   "cell_type": "code",
   "execution_count": 25,
   "id": "0f58c4bf-ea7a-456c-91ec-923ca68fcfd5",
   "metadata": {},
   "outputs": [],
   "source": [
    "#Multiplication"
   ]
  },
  {
   "cell_type": "code",
   "execution_count": 11,
   "id": "7642f158-6df2-42da-8641-0657c5b18469",
   "metadata": {},
   "outputs": [
    {
     "name": "stdout",
     "output_type": "stream",
     "text": [
      "a= 63\n",
      "b= 97\n",
      "Mul = 6111\n"
     ]
    }
   ],
   "source": [
    "a=63\n",
    "b=97\n",
    "mul=a*b\n",
    "print(\"a= \"+str(a))\n",
    "print(\"b= \"+str(b))\n",
    "print(\"Mul = \"+str(mul))"
   ]
  },
  {
   "cell_type": "code",
   "execution_count": 26,
   "id": "2a589d4e-1b0e-4b0c-9dd0-0f47145910c2",
   "metadata": {},
   "outputs": [],
   "source": [
    "#Division"
   ]
  },
  {
   "cell_type": "code",
   "execution_count": 13,
   "id": "f3e45cd7-98d8-4111-9b7a-719713193845",
   "metadata": {},
   "outputs": [
    {
     "name": "stdout",
     "output_type": "stream",
     "text": [
      "a= 76\n",
      "b= 31\n",
      "Float Div = 2.4516129032258065\n"
     ]
    }
   ],
   "source": [
    "a=76\n",
    "b=31\n",
    "div=a/b\n",
    "print(\"a= \"+str(a))\n",
    "print(\"b= \"+str(b))\n",
    "print(\"Float Div = \"+str(div))"
   ]
  },
  {
   "cell_type": "code",
   "execution_count": 14,
   "id": "016ff880-b1df-4171-8593-3bd2d1bf2fb4",
   "metadata": {},
   "outputs": [],
   "source": [
    "#Floor division"
   ]
  },
  {
   "cell_type": "code",
   "execution_count": 15,
   "id": "bf4b74bf-8e43-40aa-9dc5-6ade51f2a0d8",
   "metadata": {},
   "outputs": [
    {
     "name": "stdout",
     "output_type": "stream",
     "text": [
      "a= 76\n",
      "b= 31\n",
      "Floor Div = 2\n"
     ]
    }
   ],
   "source": [
    "a=76\n",
    "b=31\n",
    "floor_div=a//b\n",
    "print(\"a= \"+str(a))\n",
    "print(\"b= \"+str(b))\n",
    "print(\"Floor Div = \"+str(floor_div))"
   ]
  },
  {
   "cell_type": "code",
   "execution_count": 16,
   "id": "98909cb3-545f-4582-aa68-8560836f37ff",
   "metadata": {},
   "outputs": [],
   "source": [
    "#Modulo"
   ]
  },
  {
   "cell_type": "code",
   "execution_count": 17,
   "id": "a66797ba-1ce7-4d86-b5ea-f413399c5d8a",
   "metadata": {},
   "outputs": [
    {
     "name": "stdout",
     "output_type": "stream",
     "text": [
      "a= 76\n",
      "b= 31\n",
      "Modulo = 14\n"
     ]
    }
   ],
   "source": [
    "a=76\n",
    "b=31\n",
    "modulo=a%b\n",
    "print(\"a= \"+str(a))\n",
    "print(\"b= \"+str(b))\n",
    "print(\"Modulo = \"+str(modulo))"
   ]
  },
  {
   "cell_type": "code",
   "execution_count": 18,
   "id": "fce69328-8469-46be-b8c2-c715f734d864",
   "metadata": {},
   "outputs": [],
   "source": [
    "#Power"
   ]
  },
  {
   "cell_type": "code",
   "execution_count": 19,
   "id": "0336248a-f8bd-4be5-92d8-761e9fc5e7ba",
   "metadata": {},
   "outputs": [
    {
     "name": "stdout",
     "output_type": "stream",
     "text": [
      "a= 4\n",
      "b= 4\n",
      "Power = 256\n"
     ]
    }
   ],
   "source": [
    "a=4\n",
    "b=4\n",
    "pow=a**b\n",
    "print(\"a= \"+str(a))\n",
    "print(\"b= \"+str(b))\n",
    "print(\"Power = \"+str(pow))"
   ]
  },
  {
   "cell_type": "code",
   "execution_count": null,
   "id": "6f40157b-87bc-466f-9830-161235f0a1d6",
   "metadata": {},
   "outputs": [],
   "source": []
  }
 ],
 "metadata": {
  "kernelspec": {
   "display_name": "Python [conda env:base] *",
   "language": "python",
   "name": "conda-base-py"
  },
  "language_info": {
   "codemirror_mode": {
    "name": "ipython",
    "version": 3
   },
   "file_extension": ".py",
   "mimetype": "text/x-python",
   "name": "python",
   "nbconvert_exporter": "python",
   "pygments_lexer": "ipython3",
   "version": "3.12.7"
  }
 },
 "nbformat": 4,
 "nbformat_minor": 5
}
